{
  "nbformat": 4,
  "nbformat_minor": 0,
  "metadata": {
    "colab": {
      "name": "BERT_uncased(24, 1024, 16).ipynb",
      "provenance": [],
      "machine_shape": "hm",
      "authorship_tag": "ABX9TyO6S5bpak+mE8E9N9YPckwl",
      "include_colab_link": true
    },
    "kernelspec": {
      "name": "python3",
      "display_name": "Python 3"
    }
  },
  "cells": [
    {
      "cell_type": "markdown",
      "metadata": {
        "id": "view-in-github",
        "colab_type": "text"
      },
      "source": [
        "<a href=\"https://colab.research.google.com/github/Varun-Mulchandani/Reddit-Flair-Classifier/blob/master/BERT_uncased(24%2C_1024%2C_16).ipynb\" target=\"_parent\"><img src=\"https://colab.research.google.com/assets/colab-badge.svg\" alt=\"Open In Colab\"/></a>"
      ]
    },
    {
      "cell_type": "code",
      "metadata": {
        "id": "ZkxDh6_vI2f_",
        "colab_type": "code",
        "colab": {}
      },
      "source": [
        "!wget --quiet https://raw.githubusercontent.com/tensorflow/models/master/official/nlp/bert/tokenization.py"
      ],
      "execution_count": 0,
      "outputs": []
    },
    {
      "cell_type": "code",
      "metadata": {
        "id": "efOTTbiZJN1o",
        "colab_type": "code",
        "outputId": "bf4516b5-5fc8-4f51-d838-5a7aff279a99",
        "colab": {
          "base_uri": "https://localhost:8080/",
          "height": 54
        }
      },
      "source": [
        "!pip install sentencepiece"
      ],
      "execution_count": 3,
      "outputs": [
        {
          "output_type": "stream",
          "text": [
            "Requirement already satisfied: sentencepiece in /usr/local/lib/python3.6/dist-packages (0.1.85)\n"
          ],
          "name": "stdout"
        }
      ]
    },
    {
      "cell_type": "code",
      "metadata": {
        "id": "ilLEfWKKI8Ep",
        "colab_type": "code",
        "colab": {}
      },
      "source": [
        "import numpy as np\n",
        "import pandas as pd\n",
        "import tensorflow as tf\n",
        "from tensorflow.keras.layers import Dense, Input, Dropout\n",
        "from tensorflow.keras.optimizers import Adam\n",
        "from tensorflow.keras.models import Model\n",
        "from tensorflow.keras.callbacks import ModelCheckpoint\n",
        "import tensorflow_hub as hub\n",
        "\n",
        "import tokenization"
      ],
      "execution_count": 0,
      "outputs": []
    },
    {
      "cell_type": "code",
      "metadata": {
        "id": "tU_AL_glJBOJ",
        "colab_type": "code",
        "colab": {}
      },
      "source": [
        "def bert_encode(texts, tokenizer, max_len = 512):\n",
        "  all_tokens = []\n",
        "  all_masks = []\n",
        "  all_segments = []\n",
        "\n",
        "  for text in texts:\n",
        "    text = tokenizer.tokenize(text)\n",
        "    text = text[:max_len - 2]\n",
        "    input_sequence = ['[CLS]'] + text + ['[SEP]']\n",
        "    pad_len = max_len - len(input_sequence)\n",
        "\n",
        "    tokens = tokenizer.convert_tokens_to_ids(input_sequence)\n",
        "\n",
        "    tokens += [0]* pad_len\n",
        "    pad_masks = [1] * len(input_sequence) + [0] * pad_len\n",
        "    segment_ids = [0] * max_len\n",
        "\n",
        "    all_tokens.append(tokens)\n",
        "    all_masks.append(pad_masks)\n",
        "    all_segments.append(segment_ids)\n",
        "\n",
        "  return np.array(all_tokens), np.array(all_masks), np.array(all_segments)\n"
      ],
      "execution_count": 0,
      "outputs": []
    },
    {
      "cell_type": "code",
      "metadata": {
        "id": "liDpJCejKhpM",
        "colab_type": "code",
        "colab": {}
      },
      "source": [
        "def build_model(bert_layer, max_len = 512):\n",
        "  input_word_ids = Input(shape=(max_len,), dtype = tf.int32, name='input_word_ids')\n",
        "  input_mask = Input(shape=(max_len,), dtype = tf.int32, name='input_mask')\n",
        "  segment_ids = Input(shape=(max_len,), dtype=tf.int32, name='segment_ids')\n",
        "\n",
        "  _, sequence_output = bert_layer([input_word_ids, input_mask, segment_ids])\n",
        "  clf_output = sequence_output[:, 0, :]\n",
        "  dense_layer1 = Dense(units=256, activation='relu')(clf_output)\n",
        "  dense_layer1 = Dropout(0.4)(dense_layer1)\n",
        "  dense_layer2 = Dense(units=128, activation='relu')(dense_layer1)\n",
        "  dense_layer2 = Dropout(0.4)\n",
        "\n",
        "  out = Dense(12, activation = 'softmax')(clf_output)\n",
        "\n",
        "  model = Model(inputs = [input_word_ids, input_mask, segment_ids], outputs = out)\n",
        "  model.compile(Adam(lr=2e-6), loss='sparse_categorical_crossentropy', metrics=['sparse_categorical_accuracy'])\n",
        "\n",
        "  return model"
      ],
      "execution_count": 0,
      "outputs": []
    },
    {
      "cell_type": "code",
      "metadata": {
        "id": "e8HOb-6VMVrf",
        "colab_type": "code",
        "colab": {}
      },
      "source": [
        "module_url = 'https://tfhub.dev/tensorflow/bert_en_uncased_L-24_H-1024_A-16/1'\n",
        "bert_layer = hub.KerasLayer(module_url, trainable=True)"
      ],
      "execution_count": 0,
      "outputs": []
    },
    {
      "cell_type": "code",
      "metadata": {
        "id": "eZCasNAkMmDh",
        "colab_type": "code",
        "colab": {}
      },
      "source": [
        "train = pd.read_csv('reddddddit.csv')"
      ],
      "execution_count": 0,
      "outputs": []
    },
    {
      "cell_type": "code",
      "metadata": {
        "id": "6k_SVbITUkG3",
        "colab_type": "code",
        "outputId": "40d7a37c-4456-4f51-e77a-288d4027fb8d",
        "colab": {
          "base_uri": "https://localhost:8080/",
          "height": 71
        }
      },
      "source": [
        "flairs = []\n",
        "for i in list(train['flair']):\n",
        "  if i in flairs:\n",
        "    pass\n",
        "  else:\n",
        "    flairs.append(i)\n",
        "print(flairs)\n",
        "count = 0\n",
        "label_to_id = {}\n",
        "for i in flairs:\n",
        "  label_to_id[i] = count\n",
        "  count += 1\n",
        "print(label_to_id)"
      ],
      "execution_count": 9,
      "outputs": [
        {
          "output_type": "stream",
          "text": [
            "['AskIndia', 'Non-Political', '[R]eddiquette', 'Scheduled', 'Photography', 'Science/Technology', 'Politics', 'Business/Finance', 'Policy/Economy', 'Sports', 'Food', 'AMA']\n",
            "{'AskIndia': 0, 'Non-Political': 1, '[R]eddiquette': 2, 'Scheduled': 3, 'Photography': 4, 'Science/Technology': 5, 'Politics': 6, 'Business/Finance': 7, 'Policy/Economy': 8, 'Sports': 9, 'Food': 10, 'AMA': 11}\n"
          ],
          "name": "stdout"
        }
      ]
    },
    {
      "cell_type": "code",
      "metadata": {
        "id": "mSQBRWsxNHA2",
        "colab_type": "code",
        "colab": {}
      },
      "source": [
        "vocab_file = bert_layer.resolved_object.vocab_file.asset_path.numpy()\n",
        "do_lower_case = bert_layer.resolved_object.do_lower_case.numpy()\n",
        "tokenizer = tokenization.FullTokenizer(vocab_file, do_lower_case)"
      ],
      "execution_count": 0,
      "outputs": []
    },
    {
      "cell_type": "code",
      "metadata": {
        "id": "vsP8EuaHNYG-",
        "colab_type": "code",
        "colab": {}
      },
      "source": [
        "train_input = bert_encode(train.title.values, tokenizer, max_len = 160)\n",
        "train_labels = train.flair.values\n",
        "trainl = []\n",
        "for i in train_labels:\n",
        "  trainl.append(label_to_id[i])\n",
        "trainl = np.array(trainl)"
      ],
      "execution_count": 0,
      "outputs": []
    },
    {
      "cell_type": "code",
      "metadata": {
        "id": "0PF-4HdMTf0y",
        "colab_type": "code",
        "outputId": "aea2bd0d-438a-42d7-efda-15f34eeccc3a",
        "colab": {
          "base_uri": "https://localhost:8080/",
          "height": 374
        }
      },
      "source": [
        "train_input"
      ],
      "execution_count": 12,
      "outputs": [
        {
          "output_type": "execute_result",
          "data": {
            "text/plain": [
              "(array([[  101,  2342, 12247, ...,     0,     0,     0],\n",
              "        [  101,  8307,  2215, ...,     0,     0,     0],\n",
              "        [  101,  6059,  2634, ...,     0,     0,     0],\n",
              "        ...,\n",
              "        [  101,  2172,  4748, ...,     0,     0,     0],\n",
              "        [  101, 25933,  8874, ...,     0,     0,     0],\n",
              "        [  101, 25933,  2172, ...,     0,     0,     0]]),\n",
              " array([[1, 1, 1, ..., 0, 0, 0],\n",
              "        [1, 1, 1, ..., 0, 0, 0],\n",
              "        [1, 1, 1, ..., 0, 0, 0],\n",
              "        ...,\n",
              "        [1, 1, 1, ..., 0, 0, 0],\n",
              "        [1, 1, 1, ..., 0, 0, 0],\n",
              "        [1, 1, 1, ..., 0, 0, 0]]),\n",
              " array([[0, 0, 0, ..., 0, 0, 0],\n",
              "        [0, 0, 0, ..., 0, 0, 0],\n",
              "        [0, 0, 0, ..., 0, 0, 0],\n",
              "        ...,\n",
              "        [0, 0, 0, ..., 0, 0, 0],\n",
              "        [0, 0, 0, ..., 0, 0, 0],\n",
              "        [0, 0, 0, ..., 0, 0, 0]]))"
            ]
          },
          "metadata": {
            "tags": []
          },
          "execution_count": 12
        }
      ]
    },
    {
      "cell_type": "code",
      "metadata": {
        "id": "yeTxFLlrUuVn",
        "colab_type": "code",
        "outputId": "719e4ea5-ff8c-45a4-e9f1-6a2e57dfab93",
        "colab": {
          "base_uri": "https://localhost:8080/",
          "height": 34
        }
      },
      "source": [
        "trainl"
      ],
      "execution_count": 13,
      "outputs": [
        {
          "output_type": "execute_result",
          "data": {
            "text/plain": [
              "array([ 0,  0,  0, ..., 11, 11, 11])"
            ]
          },
          "metadata": {
            "tags": []
          },
          "execution_count": 13
        }
      ]
    },
    {
      "cell_type": "code",
      "metadata": {
        "id": "1sVdeEwcOtmw",
        "colab_type": "code",
        "outputId": "d227bcf9-16c6-494f-ff46-10e8f6693bb9",
        "colab": {
          "base_uri": "https://localhost:8080/",
          "height": 411
        }
      },
      "source": [
        "model = build_model(bert_layer, max_len = 160)\n",
        "model.summary()"
      ],
      "execution_count": 14,
      "outputs": [
        {
          "output_type": "stream",
          "text": [
            "Model: \"model\"\n",
            "__________________________________________________________________________________________________\n",
            "Layer (type)                    Output Shape         Param #     Connected to                     \n",
            "==================================================================================================\n",
            "input_word_ids (InputLayer)     [(None, 160)]        0                                            \n",
            "__________________________________________________________________________________________________\n",
            "input_mask (InputLayer)         [(None, 160)]        0                                            \n",
            "__________________________________________________________________________________________________\n",
            "segment_ids (InputLayer)        [(None, 160)]        0                                            \n",
            "__________________________________________________________________________________________________\n",
            "keras_layer (KerasLayer)        [(None, 1024), (None 335141889   input_word_ids[0][0]             \n",
            "                                                                 input_mask[0][0]                 \n",
            "                                                                 segment_ids[0][0]                \n",
            "__________________________________________________________________________________________________\n",
            "tf_op_layer_strided_slice (Tens [(None, 1024)]       0           keras_layer[0][1]                \n",
            "__________________________________________________________________________________________________\n",
            "dense_2 (Dense)                 (None, 12)           12300       tf_op_layer_strided_slice[0][0]  \n",
            "==================================================================================================\n",
            "Total params: 335,154,189\n",
            "Trainable params: 335,154,188\n",
            "Non-trainable params: 1\n",
            "__________________________________________________________________________________________________\n"
          ],
          "name": "stdout"
        }
      ]
    },
    {
      "cell_type": "code",
      "metadata": {
        "id": "KB23PP1GRcO7",
        "colab_type": "code",
        "outputId": "52362335-bf20-478c-9542-5935c797bf04",
        "colab": {
          "base_uri": "https://localhost:8080/",
          "height": 320
        }
      },
      "source": [
        "train_history = model.fit(\n",
        "    train_input, trainl,\n",
        "    validation_split=0.2,\n",
        "    epochs=3,\n",
        "    batch_size=16\n",
        ")\n",
        "\n",
        "model.save(model.h5)"
      ],
      "execution_count": 15,
      "outputs": [
        {
          "output_type": "stream",
          "text": [
            "Epoch 1/3\n",
            "112/112 [==============================] - 5504s 49s/step - loss: 2.2568 - sparse_categorical_accuracy: 0.2645 - val_loss: 2.4650 - val_sparse_categorical_accuracy: 0.0737\n",
            "Epoch 2/3\n",
            "112/112 [==============================] - 5481s 49s/step - loss: 1.4133 - sparse_categorical_accuracy: 0.5996 - val_loss: 1.4664 - val_sparse_categorical_accuracy: 0.5848\n",
            "Epoch 3/3\n",
            "112/112 [==============================] - 4986s 45s/step - loss: 0.8080 - sparse_categorical_accuracy: 0.8132 - val_loss: 0.9562 - val_sparse_categorical_accuracy: 0.7500\n"
          ],
          "name": "stdout"
        },
        {
          "output_type": "error",
          "ename": "AttributeError",
          "evalue": "ignored",
          "traceback": [
            "\u001b[0;31m---------------------------------------------------------------------------\u001b[0m",
            "\u001b[0;31mAttributeError\u001b[0m                            Traceback (most recent call last)",
            "\u001b[0;32m<ipython-input-15-bd5c7878274e>\u001b[0m in \u001b[0;36m<module>\u001b[0;34m()\u001b[0m\n\u001b[1;32m      6\u001b[0m )\n\u001b[1;32m      7\u001b[0m \u001b[0;34m\u001b[0m\u001b[0m\n\u001b[0;32m----> 8\u001b[0;31m \u001b[0mmodel\u001b[0m\u001b[0;34m.\u001b[0m\u001b[0msave\u001b[0m\u001b[0;34m(\u001b[0m\u001b[0mmodel\u001b[0m\u001b[0;34m.\u001b[0m\u001b[0mh5\u001b[0m\u001b[0;34m)\u001b[0m\u001b[0;34m\u001b[0m\u001b[0;34m\u001b[0m\u001b[0m\n\u001b[0m",
            "\u001b[0;31mAttributeError\u001b[0m: 'Model' object has no attribute 'h5'"
          ]
        }
      ]
    },
    {
      "cell_type": "code",
      "metadata": {
        "id": "LBaQLcO-R9LV",
        "colab_type": "code",
        "colab": {}
      },
      "source": [
        "model.save('model.h5')"
      ],
      "execution_count": 0,
      "outputs": []
    },
    {
      "cell_type": "code",
      "metadata": {
        "id": "meimZGrp_3ba",
        "colab_type": "code",
        "colab": {}
      },
      "source": [
        "def generate_flair(sentence):\n",
        "  sentence = tokenizer.tokenize(sentence)\n",
        "  sentence = sentence[:512 - 2]\n",
        "  input_sequence = ['[CLS]'] + sentence + ['[SEP]']\n",
        "  pad_len = 512 - len(input_sequence)\n",
        "  tokens = tokenizer.convert_tokens_to_ids(input_sequence)\n",
        "  tokens += [0]* pad_len\n",
        "  pad_masks = [1] * len(input_sequence) + [0] * pad_len\n",
        "  segment_ids = [0] * 512\n",
        "\n",
        "  input_s = (np.array(tokens), np.array(pad_masks), np.array(segment_ids))\n",
        "  outp = model.predict(input_s)\n",
        "  return outp"
      ],
      "execution_count": 0,
      "outputs": []
    },
    {
      "cell_type": "code",
      "metadata": {
        "id": "OMRtsD8E8ORl",
        "colab_type": "code",
        "colab": {
          "base_uri": "https://localhost:8080/",
          "height": 238
        },
        "outputId": "9165bcd5-2817-4f3d-a5db-aeaaf46eab12"
      },
      "source": [
        "generate_flair('Zomato delivery man killed')"
      ],
      "execution_count": 33,
      "outputs": [
        {
          "output_type": "execute_result",
          "data": {
            "text/plain": [
              "array([[0.13498396, 0.1654714 , 0.3762691 , ..., 0.00997647, 0.08732126,\n",
              "        0.02405257],\n",
              "       [0.05218387, 0.24571384, 0.06196211, ..., 0.12916678, 0.06740196,\n",
              "        0.16390336],\n",
              "       [0.07201799, 0.1924517 , 0.13861717, ..., 0.13038906, 0.07013833,\n",
              "        0.1624523 ],\n",
              "       ...,\n",
              "       [0.03216378, 0.24066208, 0.14364594, ..., 0.01297687, 0.0549913 ,\n",
              "        0.08683963],\n",
              "       [0.03216293, 0.24065708, 0.14364897, ..., 0.01297657, 0.05499127,\n",
              "        0.08684047],\n",
              "       [0.03216293, 0.24065708, 0.14364897, ..., 0.01297657, 0.05499127,\n",
              "        0.08684047]], dtype=float32)"
            ]
          },
          "metadata": {
            "tags": []
          },
          "execution_count": 33
        }
      ]
    },
    {
      "cell_type": "code",
      "metadata": {
        "id": "f2s_t1llB7MD",
        "colab_type": "code",
        "colab": {}
      },
      "source": [
        ""
      ],
      "execution_count": 0,
      "outputs": []
    }
  ]
}