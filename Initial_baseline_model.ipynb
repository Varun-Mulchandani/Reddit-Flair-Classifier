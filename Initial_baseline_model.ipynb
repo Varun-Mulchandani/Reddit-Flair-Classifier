{
  "nbformat": 4,
  "nbformat_minor": 0,
  "metadata": {
    "colab": {
      "name": "Initial_baseline_model.ipynb",
      "provenance": [],
      "authorship_tag": "ABX9TyPyqRTnv0PsMB4hOWXS2VdV",
      "include_colab_link": true
    },
    "kernelspec": {
      "name": "python3",
      "display_name": "Python 3"
    }
  },
  "cells": [
    {
      "cell_type": "markdown",
      "metadata": {
        "id": "view-in-github",
        "colab_type": "text"
      },
      "source": [
        "<a href=\"https://colab.research.google.com/github/Varun-Mulchandani/Reddit-Flair-Classifier/blob/master/Initial_baseline_model.ipynb\" target=\"_parent\"><img src=\"https://colab.research.google.com/assets/colab-badge.svg\" alt=\"Open In Colab\"/></a>"
      ]
    },
    {
      "cell_type": "code",
      "metadata": {
        "id": "ApSDDb3TLYr_",
        "colab_type": "code",
        "colab": {
          "base_uri": "https://localhost:8080/",
          "height": 496
        },
        "outputId": "8064cc2c-7357-4b31-ee13-486fcb742a6c"
      },
      "source": [
        "!pip install bert-for-tf2\n",
        "!pip install sentencepiece"
      ],
      "execution_count": 1,
      "outputs": [
        {
          "output_type": "stream",
          "text": [
            "Collecting bert-for-tf2\n",
            "\u001b[?25l  Downloading https://files.pythonhosted.org/packages/ff/84/1bea6c34d38f3e726830d3adeca76e6e901b98cf5babd635883dbedd7ecc/bert-for-tf2-0.14.1.tar.gz (40kB)\n",
            "\u001b[K     |████████████████████████████████| 40kB 1.0MB/s \n",
            "\u001b[?25hCollecting py-params>=0.9.6\n",
            "  Downloading https://files.pythonhosted.org/packages/a4/bf/c1c70d5315a8677310ea10a41cfc41c5970d9b37c31f9c90d4ab98021fd1/py-params-0.9.7.tar.gz\n",
            "Collecting params-flow>=0.8.0\n",
            "  Downloading https://files.pythonhosted.org/packages/ac/0d/615c0d4aea541b4f47c761263809a02e160e7a2babd175f0ddd804776cf4/params-flow-0.8.0.tar.gz\n",
            "Requirement already satisfied: numpy in /usr/local/lib/python3.6/dist-packages (from params-flow>=0.8.0->bert-for-tf2) (1.18.2)\n",
            "Requirement already satisfied: tqdm in /usr/local/lib/python3.6/dist-packages (from params-flow>=0.8.0->bert-for-tf2) (4.38.0)\n",
            "Building wheels for collected packages: bert-for-tf2, py-params, params-flow\n",
            "  Building wheel for bert-for-tf2 (setup.py) ... \u001b[?25l\u001b[?25hdone\n",
            "  Created wheel for bert-for-tf2: filename=bert_for_tf2-0.14.1-cp36-none-any.whl size=30083 sha256=e1a588108c799fa44c480c9785384221c9f13bca04d05859d3a22a3ced938c85\n",
            "  Stored in directory: /root/.cache/pip/wheels/dd/f1/10/861fd7899727e4034293fb1dfef45b00f8cd476d21d3b3821e\n",
            "  Building wheel for py-params (setup.py) ... \u001b[?25l\u001b[?25hdone\n",
            "  Created wheel for py-params: filename=py_params-0.9.7-cp36-none-any.whl size=7302 sha256=764c01cb90c9702462e52fd04ac04dc57531fc770ecfafa5f706a75713b1105b\n",
            "  Stored in directory: /root/.cache/pip/wheels/67/f5/19/b461849a50aefdf4bab47c4756596e82ee2118b8278e5a1980\n",
            "  Building wheel for params-flow (setup.py) ... \u001b[?25l\u001b[?25hdone\n",
            "  Created wheel for params-flow: filename=params_flow-0.8.0-cp36-none-any.whl size=15999 sha256=09f857d97feb345272762ca0e648c28f23692bf1f251f652365946f87672a8d5\n",
            "  Stored in directory: /root/.cache/pip/wheels/88/41/05/1a9955d1d01575bbd58aab76e22f8c7eeabba905d551576f43\n",
            "Successfully built bert-for-tf2 py-params params-flow\n",
            "Installing collected packages: py-params, params-flow, bert-for-tf2\n",
            "Successfully installed bert-for-tf2-0.14.1 params-flow-0.8.0 py-params-0.9.7\n",
            "Collecting sentencepiece\n",
            "\u001b[?25l  Downloading https://files.pythonhosted.org/packages/74/f4/2d5214cbf13d06e7cb2c20d84115ca25b53ea76fa1f0ade0e3c9749de214/sentencepiece-0.1.85-cp36-cp36m-manylinux1_x86_64.whl (1.0MB)\n",
            "\u001b[K     |████████████████████████████████| 1.0MB 1.4MB/s \n",
            "\u001b[?25hInstalling collected packages: sentencepiece\n",
            "Successfully installed sentencepiece-0.1.85\n"
          ],
          "name": "stdout"
        }
      ]
    },
    {
      "cell_type": "code",
      "metadata": {
        "id": "S0KRDoEwmU6F",
        "colab_type": "code",
        "colab": {}
      },
      "source": [
        "import math"
      ],
      "execution_count": 0,
      "outputs": []
    },
    {
      "cell_type": "code",
      "metadata": {
        "id": "E242lerXMoY7",
        "colab_type": "code",
        "colab": {}
      },
      "source": [
        "import pandas as pd\n",
        "import numpy as np\n",
        "import regex as re"
      ],
      "execution_count": 0,
      "outputs": []
    },
    {
      "cell_type": "code",
      "metadata": {
        "id": "avtr-FERMMZ2",
        "colab_type": "code",
        "colab": {}
      },
      "source": [
        "try:\n",
        "  %tensorflow_version 2.x\n",
        "except Exception:\n",
        "  pass\n",
        "import tensorflow as tf\n",
        "import tensorflow_hub as hub\n",
        "from tensorflow.keras import layers\n",
        "import bert"
      ],
      "execution_count": 0,
      "outputs": []
    },
    {
      "cell_type": "code",
      "metadata": {
        "id": "bArDWR2KMfS9",
        "colab_type": "code",
        "colab": {}
      },
      "source": [
        "data = pd.read_csv('reddddddit.csv')"
      ],
      "execution_count": 0,
      "outputs": []
    },
    {
      "cell_type": "code",
      "metadata": {
        "id": "NSXJl-PBMlFe",
        "colab_type": "code",
        "colab": {
          "base_uri": "https://localhost:8080/",
          "height": 530
        },
        "outputId": "819c68a6-4f1f-44b8-c290-e5622b256407"
      },
      "source": [
        "data.head()"
      ],
      "execution_count": 6,
      "outputs": [
        {
          "output_type": "execute_result",
          "data": {
            "text/html": [
              "<div>\n",
              "<style scoped>\n",
              "    .dataframe tbody tr th:only-of-type {\n",
              "        vertical-align: middle;\n",
              "    }\n",
              "\n",
              "    .dataframe tbody tr th {\n",
              "        vertical-align: top;\n",
              "    }\n",
              "\n",
              "    .dataframe thead th {\n",
              "        text-align: right;\n",
              "    }\n",
              "</style>\n",
              "<table border=\"1\" class=\"dataframe\">\n",
              "  <thead>\n",
              "    <tr style=\"text-align: right;\">\n",
              "      <th></th>\n",
              "      <th>author</th>\n",
              "      <th>authors</th>\n",
              "      <th>body</th>\n",
              "      <th>comment</th>\n",
              "      <th>comms_num</th>\n",
              "      <th>created</th>\n",
              "      <th>flair</th>\n",
              "      <th>id</th>\n",
              "      <th>score</th>\n",
              "      <th>title</th>\n",
              "      <th>url</th>\n",
              "      <th>combined_features</th>\n",
              "    </tr>\n",
              "  </thead>\n",
              "  <tbody>\n",
              "    <tr>\n",
              "      <th>0</th>\n",
              "      <td>dhavalcoholic</td>\n",
              "      <td>ICICIPruLifeIns</td>\n",
              "      <td>reposting lack activity r askindiahello last y...</td>\n",
              "      <td>dear policy holder dhavalcoholic request help ...</td>\n",
              "      <td>1</td>\n",
              "      <td>1.386254e+09</td>\n",
              "      <td>AskIndia</td>\n",
              "      <td>1s57oi</td>\n",
              "      <td>1</td>\n",
              "      <td>need feedback insurance policy took xpost aski...</td>\n",
              "      <td>https://www.reddit.com/r/india/comments/1s57oi...</td>\n",
              "      <td>need feedback insurance policy took xpost aski...</td>\n",
              "    </tr>\n",
              "    <tr>\n",
              "      <th>1</th>\n",
              "      <td>amitkumarthakur</td>\n",
              "      <td>RAD-Business RAD-Business None barcam10 _snor...</td>\n",
              "      <td>24hrs local police station register case dont ...</td>\n",
              "      <td>calm downgo sp office town file grievance imme...</td>\n",
              "      <td>24</td>\n",
              "      <td>1.554080e+09</td>\n",
              "      <td>AskIndia</td>\n",
              "      <td>b7pvwt</td>\n",
              "      <td>94</td>\n",
              "      <td>somebody want kill full family</td>\n",
              "      <td>https://www.reddit.com/r/india/comments/b7pvwt...</td>\n",
              "      <td>somebody want kill full familycalm downgo sp o...</td>\n",
              "    </tr>\n",
              "    <tr>\n",
              "      <th>2</th>\n",
              "      <td>FrustratedOCIHopeful</td>\n",
              "      <td>plshelpthedog ayyylmaaaoo Proper_Boysenberry ...</td>\n",
              "      <td>hello askindia first time poster long time lur...</td>\n",
              "      <td>honestly supervisor behaved exactly government...</td>\n",
              "      <td>27</td>\n",
              "      <td>1.555361e+09</td>\n",
              "      <td>AskIndia</td>\n",
              "      <td>bdfid1</td>\n",
              "      <td>10</td>\n",
              "      <td>ambassador india takes back newly issued oci c...</td>\n",
              "      <td>https://www.reddit.com/r/india/comments/bdfid1...</td>\n",
              "      <td>ambassador india takes back newly issued oci c...</td>\n",
              "    </tr>\n",
              "    <tr>\n",
              "      <th>3</th>\n",
              "      <td>aloo_vs_bhaloo</td>\n",
              "      <td>vcdarklord tilismilis aloo_vs_bhaloo dogaa fo...</td>\n",
              "      <td>r tooafraidtoask india edition</td>\n",
              "      <td>modi control sex desires jerk someone else pro...</td>\n",
              "      <td>22</td>\n",
              "      <td>1.566529e+09</td>\n",
              "      <td>AskIndia</td>\n",
              "      <td>cu1xn4</td>\n",
              "      <td>18</td>\n",
              "      <td>randians afraid ask</td>\n",
              "      <td>https://www.reddit.com/r/india/comments/cu1xn4...</td>\n",
              "      <td>randians afraid askmodi control sex desires je...</td>\n",
              "    </tr>\n",
              "    <tr>\n",
              "      <th>4</th>\n",
              "      <td>multubunu</td>\n",
              "      <td>NaN</td>\n",
              "      <td>hello submitted r raskindia week ago got answe...</td>\n",
              "      <td>NaN</td>\n",
              "      <td>0</td>\n",
              "      <td>1.361085e+09</td>\n",
              "      <td>AskIndia</td>\n",
              "      <td>18ntue</td>\n",
              "      <td>0</td>\n",
              "      <td>askindia cingari cengar tzengar</td>\n",
              "      <td>https://www.reddit.com/r/india/comments/18ntue...</td>\n",
              "      <td>askindia cingari cengar tzengarhttps://www.red...</td>\n",
              "    </tr>\n",
              "  </tbody>\n",
              "</table>\n",
              "</div>"
            ],
            "text/plain": [
              "                 author  ...                                  combined_features\n",
              "0         dhavalcoholic  ...  need feedback insurance policy took xpost aski...\n",
              "1       amitkumarthakur  ...  somebody want kill full familycalm downgo sp o...\n",
              "2  FrustratedOCIHopeful  ...  ambassador india takes back newly issued oci c...\n",
              "3        aloo_vs_bhaloo  ...  randians afraid askmodi control sex desires je...\n",
              "4             multubunu  ...  askindia cingari cengar tzengarhttps://www.red...\n",
              "\n",
              "[5 rows x 12 columns]"
            ]
          },
          "metadata": {
            "tags": []
          },
          "execution_count": 6
        }
      ]
    },
    {
      "cell_type": "code",
      "metadata": {
        "id": "Exbv6Pq8Ms3v",
        "colab_type": "code",
        "colab": {
          "base_uri": "https://localhost:8080/",
          "height": 34
        },
        "outputId": "18c2b8ad-d212-4d32-d027-205d68fe9aa8"
      },
      "source": [
        "data.shape"
      ],
      "execution_count": 7,
      "outputs": [
        {
          "output_type": "execute_result",
          "data": {
            "text/plain": [
              "(1518, 12)"
            ]
          },
          "metadata": {
            "tags": []
          },
          "execution_count": 7
        }
      ]
    },
    {
      "cell_type": "code",
      "metadata": {
        "id": "bB7xdkYfM1yG",
        "colab_type": "code",
        "colab": {}
      },
      "source": [
        "def preprocess_text(sentence):\n",
        "  sentence = remove_tags(sentence)\n",
        "  sentence = re.sub('[^a-zA-Z]', ' ', sentence)\n",
        "  sentence = re.sub(r'\\s+[a-zA-Z]\\s+', ' ', sentence)\n",
        "  sentence = re.sub(r'\\s+', ' ', sentence)\n",
        "  return sentence\n",
        "TAG_RE = re.compile(r'<[^>]+>')\n",
        "def remove_tags(text):\n",
        "  return TAG_RE.sub('', text)"
      ],
      "execution_count": 0,
      "outputs": []
    },
    {
      "cell_type": "code",
      "metadata": {
        "id": "7bcLdmIESZ8p",
        "colab_type": "code",
        "colab": {
          "base_uri": "https://localhost:8080/",
          "height": 34
        },
        "outputId": "c06e69a2-f516-433c-fbf7-1a70192d0007"
      },
      "source": [
        "print(type(list(data['title'])[0]))"
      ],
      "execution_count": 9,
      "outputs": [
        {
          "output_type": "stream",
          "text": [
            "<class 'str'>\n"
          ],
          "name": "stdout"
        }
      ]
    },
    {
      "cell_type": "code",
      "metadata": {
        "id": "6bC-8jisNZbi",
        "colab_type": "code",
        "colab": {}
      },
      "source": [
        "cleaned_titles = []\n",
        "sentences = list(data['title'])\n",
        "for sentence in sentences:\n",
        "  cleaned_titles.append(preprocess_text(sentence))"
      ],
      "execution_count": 0,
      "outputs": []
    },
    {
      "cell_type": "code",
      "metadata": {
        "id": "82cekqPNOwpH",
        "colab_type": "code",
        "colab": {}
      },
      "source": [
        "#cleaned_titles"
      ],
      "execution_count": 0,
      "outputs": []
    },
    {
      "cell_type": "code",
      "metadata": {
        "id": "luG5CTMOPh2V",
        "colab_type": "code",
        "colab": {}
      },
      "source": [
        "#for i in list(data['body']):\n",
        "#  print(type(i))\n",
        "#body can be both str or float whereas in title we have only str"
      ],
      "execution_count": 0,
      "outputs": []
    },
    {
      "cell_type": "code",
      "metadata": {
        "id": "6X87Y3i2Oyqt",
        "colab_type": "code",
        "colab": {}
      },
      "source": [
        "cleaned_bodies = []\n",
        "sentences = list(data['body'])\n",
        "for sentence in sentences:\n",
        "  if type(sentence) == float:#as some of the bodies are empty\n",
        "    cleaned_bodies.append(str(sentence))\n",
        "  else:\n",
        "    cleaned_bodies.append(preprocess_text(sentence))"
      ],
      "execution_count": 0,
      "outputs": []
    },
    {
      "cell_type": "code",
      "metadata": {
        "id": "iJNcWZMIPdfs",
        "colab_type": "code",
        "colab": {}
      },
      "source": [
        "#cleaned_bodies"
      ],
      "execution_count": 0,
      "outputs": []
    },
    {
      "cell_type": "markdown",
      "metadata": {
        "id": "3Ovd412rVYs6",
        "colab_type": "text"
      },
      "source": [
        "Creating the BERT tokenizer"
      ]
    },
    {
      "cell_type": "code",
      "metadata": {
        "id": "RN8HKc3cQ2MX",
        "colab_type": "code",
        "colab": {}
      },
      "source": [
        "BertTokenizer = bert.bert_tokenization.FullTokenizer\n",
        "bert_layer = hub.KerasLayer(\"https://tfhub.dev/tensorflow/bert_en_uncased_L-12_H-768_A-12/1\", trainable = False)\n",
        "vocabulary_file = bert_layer.resolved_object.vocab_file.asset_path.numpy()\n",
        "to_lower_case = bert_layer.resolved_object.do_lower_case.numpy()\n",
        "tokenizer = BertTokenizer(vocabulary_file, to_lower_case)"
      ],
      "execution_count": 0,
      "outputs": []
    },
    {
      "cell_type": "code",
      "metadata": {
        "id": "HRT6ZmVSV74l",
        "colab_type": "code",
        "colab": {
          "base_uri": "https://localhost:8080/",
          "height": 34
        },
        "outputId": "cb6b77ab-c0a5-404b-cdf3-f367cfb3932c"
      },
      "source": [
        "tokenizer.convert_tokens_to_ids(tokenizer.tokenize(\"sep\"))"
      ],
      "execution_count": 16,
      "outputs": [
        {
          "output_type": "execute_result",
          "data": {
            "text/plain": [
              "[19802]"
            ]
          },
          "metadata": {
            "tags": []
          },
          "execution_count": 16
        }
      ]
    },
    {
      "cell_type": "code",
      "metadata": {
        "id": "7JyAqDa3WjS-",
        "colab_type": "code",
        "colab": {}
      },
      "source": [
        "#establishing tokens for a sentence to start or begin and a seperator for the title and the body\n",
        "start_token = len(tokenizer.vocab) + 1\n",
        "end_token = len(tokenizer.vocab) + 2\n",
        "seperator_token = tokenizer.convert_tokens_to_ids(tokenizer.tokenize(\"sep\"))[0]\n",
        "new_vocab_size = len(tokenizer.vocab) + 2"
      ],
      "execution_count": 0,
      "outputs": []
    },
    {
      "cell_type": "code",
      "metadata": {
        "id": "efQWRk8aXhvA",
        "colab_type": "code",
        "colab": {}
      },
      "source": [
        "final_input = []\n",
        "for (title, body) in zip(cleaned_titles, cleaned_bodies):\n",
        "  input_i = tokenizer.convert_tokens_to_ids(tokenizer.tokenize(title)) + [seperator_token] + tokenizer.convert_tokens_to_ids(tokenizer.tokenize(body))\n",
        "  final_input.append(input_i)\n",
        "#final_input[0]"
      ],
      "execution_count": 0,
      "outputs": []
    },
    {
      "cell_type": "code",
      "metadata": {
        "id": "n7q95vycZh8X",
        "colab_type": "code",
        "colab": {
          "base_uri": "https://localhost:8080/",
          "height": 71
        },
        "outputId": "985d6d33-7fa7-432b-a90b-cce7a4c8575c"
      },
      "source": [
        "flairs = []\n",
        "for i in list(data['flair']):\n",
        "  if i in flairs:\n",
        "    pass\n",
        "  else:\n",
        "    flairs.append(i)\n",
        "print(flairs)\n",
        "count = 0\n",
        "label_to_id = {}\n",
        "for i in flairs:\n",
        "  label_to_id[i] = count\n",
        "  count += 1\n",
        "print(label_to_id)"
      ],
      "execution_count": 19,
      "outputs": [
        {
          "output_type": "stream",
          "text": [
            "['AskIndia', 'Non-Political', '[R]eddiquette', 'Scheduled', 'Photography', 'Science/Technology', 'Politics', 'Business/Finance', 'Policy/Economy', 'Sports', 'Food', 'AMA']\n",
            "{'AskIndia': 0, 'Non-Political': 1, '[R]eddiquette': 2, 'Scheduled': 3, 'Photography': 4, 'Science/Technology': 5, 'Politics': 6, 'Business/Finance': 7, 'Policy/Economy': 8, 'Sports': 9, 'Food': 10, 'AMA': 11}\n"
          ],
          "name": "stdout"
        }
      ]
    },
    {
      "cell_type": "code",
      "metadata": {
        "id": "Eq1NIEaObkAS",
        "colab_type": "code",
        "colab": {}
      },
      "source": [
        "final_input_len = [[inputs, label_to_id[list(data['flair'])[i]], len(inputs)] for i, inputs in enumerate(final_input)]\n",
        "#final_input_len"
      ],
      "execution_count": 0,
      "outputs": []
    },
    {
      "cell_type": "code",
      "metadata": {
        "id": "rE-JhSGT3D_j",
        "colab_type": "code",
        "colab": {}
      },
      "source": [
        "#for i in list(data['flair']):\n",
        "#  print(label_to_id[i])"
      ],
      "execution_count": 0,
      "outputs": []
    },
    {
      "cell_type": "code",
      "metadata": {
        "id": "wkzHFyfXgAP8",
        "colab_type": "code",
        "colab": {}
      },
      "source": [
        "import random\n",
        "random.shuffle(final_input_len)"
      ],
      "execution_count": 0,
      "outputs": []
    },
    {
      "cell_type": "code",
      "metadata": {
        "id": "FdzhxTwFgOuF",
        "colab_type": "code",
        "colab": {}
      },
      "source": [
        "final_input_len.sort(key=lambda x: x[2])"
      ],
      "execution_count": 0,
      "outputs": []
    },
    {
      "cell_type": "code",
      "metadata": {
        "id": "J4Zz-EOVgdF2",
        "colab_type": "code",
        "colab": {}
      },
      "source": [
        "sorted_input_labels = [(inputs_lab[0], inputs_lab[1]) for inputs_lab in final_input_len]"
      ],
      "execution_count": 0,
      "outputs": []
    },
    {
      "cell_type": "code",
      "metadata": {
        "id": "tPdEbE-vgxvd",
        "colab_type": "code",
        "colab": {}
      },
      "source": [
        "processed_dataset = tf.data.Dataset.from_generator(lambda: sorted_input_labels, output_types = (tf.int32, tf.int32))"
      ],
      "execution_count": 0,
      "outputs": []
    },
    {
      "cell_type": "code",
      "metadata": {
        "id": "paAJ2G2shLYR",
        "colab_type": "code",
        "colab": {}
      },
      "source": [
        "BATCH_SIZE = 32\n",
        "batched_dataset = processed_dataset.padded_batch(BATCH_SIZE, padded_shapes = ((None,), ()))"
      ],
      "execution_count": 0,
      "outputs": []
    },
    {
      "cell_type": "code",
      "metadata": {
        "id": "JiVS70nbhl31",
        "colab_type": "code",
        "colab": {
          "base_uri": "https://localhost:8080/",
          "height": 666
        },
        "outputId": "722740cc-95f3-429e-80d2-1573761bd0a2"
      },
      "source": [
        "next(iter(batched_dataset))"
      ],
      "execution_count": 27,
      "outputs": [
        {
          "output_type": "execute_result",
          "data": {
            "text/plain": [
              "(<tf.Tensor: shape=(32, 6), dtype=int32, numpy=\n",
              " array([[14288, 19802, 16660,     0,     0,     0],\n",
              "        [14288, 19802, 16660,     0,     0,     0],\n",
              "        [ 2197,  3345, 19802, 16660,     0,     0],\n",
              "        [26102,  2634, 19802, 16660,     0,     0],\n",
              "        [ 5675,  4599, 19802, 16660,     0,     0],\n",
              "        [ 2197,  3345, 19802, 16660,     0,     0],\n",
              "        [ 3835,  5466, 19802, 16660,     0,     0],\n",
              "        [ 3403,  2767, 19802, 16660,     0,     0],\n",
              "        [ 3403,  2767, 19802, 16660,     0,     0],\n",
              "        [23556,  4839, 19802, 16660,     0,     0],\n",
              "        [ 4608,  2397, 19802, 16660,     0,     0],\n",
              "        [ 5855,  8660,  6569, 19802, 16660,     0],\n",
              "        [ 6975,  4368,  2455, 19802, 16660,     0],\n",
              "        [ 3047,  7483,  1054, 19802, 16660,     0],\n",
              "        [10958, 21886, 12897, 19802, 16660,     0],\n",
              "        [18465,  5855,  8955, 19802, 16660,     0],\n",
              "        [ 5855,  8660,  6569, 19802, 16660,     0],\n",
              "        [ 2296,  2309,  2051, 19802, 16660,     0],\n",
              "        [18465,  5855,  8955, 19802, 16660,     0],\n",
              "        [23156,  6505,  1052, 19802, 16660,     0],\n",
              "        [ 2634, 18355,  3112, 19802, 16660,     0],\n",
              "        [12958,  2203,  3690, 19802, 16660,     0],\n",
              "        [ 9733, 16014,  2925, 19802, 16660,     0],\n",
              "        [ 2833,  6959,  3277, 19802, 16660,     0],\n",
              "        [ 2796, 12183,  2900, 19802, 16660,     0],\n",
              "        [ 9733, 16014,  2925, 19802, 16660,     0],\n",
              "        [14408,  3258,  1052, 19802, 16660,     0],\n",
              "        [ 6533, 23556, 28232, 12338, 19802, 16660],\n",
              "        [ 3124,  5030,  5949,  2833, 19802, 16660],\n",
              "        [16469,  3148,  2319,  4871, 19802, 16660],\n",
              "        [ 3048,  2875,  5211,  6308, 19802, 16660],\n",
              "        [ 9932,  4877,  2796,  2671, 19802, 16660]], dtype=int32)>,\n",
              " <tf.Tensor: shape=(32,), dtype=int32, numpy=\n",
              " array([ 3,  3,  4,  4,  9,  4, 11,  4,  4,  8,  6,  4,  9, 11,  6,  4,  4,\n",
              "        10,  4, 11,  8,  9,  3, 10, 10,  3,  6,  8, 10,  3,  8,  5],\n",
              "       dtype=int32)>)"
            ]
          },
          "metadata": {
            "tags": []
          },
          "execution_count": 27
        }
      ]
    },
    {
      "cell_type": "code",
      "metadata": {
        "id": "Hg-iNUeghu4H",
        "colab_type": "code",
        "colab": {}
      },
      "source": [
        "TOTAL_BATCHES = math.ceil(len(sorted_input_labels)/BATCH_SIZE)\n",
        "TEST_BATCHES = TOTAL_BATCHES // 10\n",
        "batched_dataset.shuffle(TOTAL_BATCHES)\n",
        "test_data = batched_dataset.take(TEST_BATCHES)\n",
        "train_data = batched_dataset.skip(TEST_BATCHES)"
      ],
      "execution_count": 0,
      "outputs": []
    },
    {
      "cell_type": "code",
      "metadata": {
        "id": "w8m89xNilhwK",
        "colab_type": "code",
        "colab": {}
      },
      "source": [
        "class TEXT_MODEL(tf.keras.Model):\n",
        "  def __init__(self,\n",
        "               vocabulary_size,\n",
        "               embedding_dimensions = 128,\n",
        "               cnn_filters = 50,\n",
        "               dnn_units = 512,\n",
        "               model_output_classes = 12,\n",
        "               dropout_rate = 0.1,\n",
        "               training = False,\n",
        "               name = 'text_model'):\n",
        "    super(TEXT_MODEL, self).__init__(name=name)\n",
        "        \n",
        "    self.embedding = layers.Embedding(vocabulary_size,\n",
        "                                          embedding_dimensions)\n",
        "    self.cnn_layer1 = layers.Conv1D(filters=cnn_filters,\n",
        "                                        kernel_size=2,\n",
        "                                        padding=\"valid\",\n",
        "                                        activation=\"relu\")\n",
        "    self.cnn_layer2 = layers.Conv1D(filters=cnn_filters,\n",
        "                                        kernel_size=3,\n",
        "                                        padding=\"valid\",\n",
        "                                        activation=\"relu\")\n",
        "    self.cnn_layer3 = layers.Conv1D(filters=cnn_filters,\n",
        "                                        kernel_size=4,\n",
        "                                        padding=\"valid\",\n",
        "                                        activation=\"relu\")\n",
        "    self.pool = layers.GlobalMaxPool1D()\n",
        "        \n",
        "    self.dense_1 = layers.Dense(units=dnn_units, activation=\"relu\")\n",
        "    self.dropout = layers.Dropout(rate=dropout_rate)\n",
        "    self.last_dense = layers.Dense(units=model_output_classes,\n",
        "                                           activation=\"softmax\")\n",
        "    \n",
        "  def call(self, inputs, training):\n",
        "    l = self.embedding(inputs)\n",
        "    l_1 = self.cnn_layer1(l) \n",
        "    l_1 = self.pool(l_1) \n",
        "    l_2 = self.cnn_layer2(l) \n",
        "    l_2 = self.pool(l_2)\n",
        "    l_3 = self.cnn_layer3(l)\n",
        "    l_3 = self.pool(l_3) \n",
        "        \n",
        "    concatenated = tf.concat([l_1, l_2, l_3], axis=-1) # (batch_size, 3 * cnn_filters)\n",
        "    concatenated = self.dense_1(concatenated)\n",
        "    concatenated = self.dropout(concatenated, training)\n",
        "    model_output = self.last_dense(concatenated)\n",
        "        \n",
        "    return model_output"
      ],
      "execution_count": 0,
      "outputs": []
    },
    {
      "cell_type": "code",
      "metadata": {
        "id": "n7eeWY_EzsQU",
        "colab_type": "code",
        "colab": {}
      },
      "source": [
        "VOCAB_LENGTH = len(tokenizer.vocab)\n",
        "EMB_DIM = 200\n",
        "CNN_FILTERS = 100\n",
        "DNN_UNITS = 256\n",
        "OUTPUT_CLASSES = 12\n",
        "\n",
        "DROPOUT_RATE = 0.5\n",
        "\n",
        "NB_EPOCHS = 5"
      ],
      "execution_count": 0,
      "outputs": []
    },
    {
      "cell_type": "code",
      "metadata": {
        "id": "k0J15h7D0DTw",
        "colab_type": "code",
        "colab": {}
      },
      "source": [
        "text_model = TEXT_MODEL(vocabulary_size=VOCAB_LENGTH,\n",
        "                        embedding_dimensions=EMB_DIM,\n",
        "                        cnn_filters=CNN_FILTERS,\n",
        "                        dnn_units=DNN_UNITS,\n",
        "                        model_output_classes=OUTPUT_CLASSES,\n",
        "                        dropout_rate=DROPOUT_RATE)"
      ],
      "execution_count": 0,
      "outputs": []
    },
    {
      "cell_type": "code",
      "metadata": {
        "id": "5KH8ztZ_0EHL",
        "colab_type": "code",
        "colab": {}
      },
      "source": [
        "text_model.compile(loss = 'sparse_categorical_crossentropy', optimizer = 'adam', metrics = ['sparse_categorical_accuracy'])"
      ],
      "execution_count": 0,
      "outputs": []
    },
    {
      "cell_type": "code",
      "metadata": {
        "id": "UqKnyBX20eME",
        "colab_type": "code",
        "colab": {
          "base_uri": "https://localhost:8080/",
          "height": 224
        },
        "outputId": "caac2b25-6bfa-4b25-c996-cfabe8d608cb"
      },
      "source": [
        "text_model.fit(train_data,epochs = NB_EPOCHS)"
      ],
      "execution_count": 33,
      "outputs": [
        {
          "output_type": "stream",
          "text": [
            "Epoch 1/5\n",
            "44/44 [==============================] - 8s 187ms/step - loss: 2.3122 - sparse_categorical_accuracy: 0.2252\n",
            "Epoch 2/5\n",
            "44/44 [==============================] - 8s 182ms/step - loss: 1.8359 - sparse_categorical_accuracy: 0.4050\n",
            "Epoch 3/5\n",
            "44/44 [==============================] - 8s 183ms/step - loss: 1.2745 - sparse_categorical_accuracy: 0.6410\n",
            "Epoch 4/5\n",
            "44/44 [==============================] - 8s 182ms/step - loss: 0.7872 - sparse_categorical_accuracy: 0.8252\n",
            "Epoch 5/5\n",
            "44/44 [==============================] - 8s 184ms/step - loss: 0.4032 - sparse_categorical_accuracy: 0.9245\n"
          ],
          "name": "stdout"
        },
        {
          "output_type": "execute_result",
          "data": {
            "text/plain": [
              "<tensorflow.python.keras.callbacks.History at 0x7feedcdd3828>"
            ]
          },
          "metadata": {
            "tags": []
          },
          "execution_count": 33
        }
      ]
    },
    {
      "cell_type": "code",
      "metadata": {
        "id": "7jNHX7UJ0rNH",
        "colab_type": "code",
        "colab": {
          "base_uri": "https://localhost:8080/",
          "height": 71
        },
        "outputId": "e9b3c891-8432-4d60-c763-b02f72577ceb"
      },
      "source": [
        "results = text_model.evaluate(test_data)\n",
        "print(results)"
      ],
      "execution_count": 34,
      "outputs": [
        {
          "output_type": "stream",
          "text": [
            "4/4 [==============================] - 0s 8ms/step - loss: 1.5624 - sparse_categorical_accuracy: 0.5156\n",
            "[1.5624210834503174, 0.515625]\n"
          ],
          "name": "stdout"
        }
      ]
    }
  ]
}