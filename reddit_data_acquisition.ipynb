{
  "nbformat": 4,
  "nbformat_minor": 0,
  "metadata": {
    "colab": {
      "name": "reddit_data_acquisition.ipynb",
      "provenance": [],
      "collapsed_sections": [],
      "authorship_tag": "ABX9TyNezkKmbi7o14BfIVxFoIo8",
      "include_colab_link": true
    },
    "kernelspec": {
      "name": "python3",
      "display_name": "Python 3"
    }
  },
  "cells": [
    {
      "cell_type": "markdown",
      "metadata": {
        "id": "view-in-github",
        "colab_type": "text"
      },
      "source": [
        "<a href=\"https://colab.research.google.com/github/Varun-Mulchandani/Reddit-Flair-Classifier/blob/master/reddit_data_acquisition.ipynb\" target=\"_parent\"><img src=\"https://colab.research.google.com/assets/colab-badge.svg\" alt=\"Open In Colab\"/></a>"
      ]
    },
    {
      "cell_type": "code",
      "metadata": {
        "id": "iNWm1lsoEr0b",
        "colab_type": "code",
        "outputId": "ad86a585-5cb8-40d0-88c1-4f6dca3a5481",
        "colab": {
          "base_uri": "https://localhost:8080/",
          "height": 343
        }
      },
      "source": [
        "!pip install praw"
      ],
      "execution_count": 0,
      "outputs": [
        {
          "output_type": "stream",
          "text": [
            "Collecting praw\n",
            "\u001b[?25l  Downloading https://files.pythonhosted.org/packages/25/c0/b9714b4fb164368843b41482a3cac11938021871adf99bf5aaa3980b0182/praw-6.5.1-py3-none-any.whl (134kB)\n",
            "\r\u001b[K     |██▍                             | 10kB 16.6MB/s eta 0:00:01\r\u001b[K     |████▉                           | 20kB 1.5MB/s eta 0:00:01\r\u001b[K     |███████▎                        | 30kB 2.0MB/s eta 0:00:01\r\u001b[K     |█████████▊                      | 40kB 1.6MB/s eta 0:00:01\r\u001b[K     |████████████▏                   | 51kB 1.9MB/s eta 0:00:01\r\u001b[K     |██████████████▋                 | 61kB 2.1MB/s eta 0:00:01\r\u001b[K     |█████████████████               | 71kB 2.3MB/s eta 0:00:01\r\u001b[K     |███████████████████▌            | 81kB 2.6MB/s eta 0:00:01\r\u001b[K     |█████████████████████▉          | 92kB 2.8MB/s eta 0:00:01\r\u001b[K     |████████████████████████▎       | 102kB 2.6MB/s eta 0:00:01\r\u001b[K     |██████████████████████████▊     | 112kB 2.6MB/s eta 0:00:01\r\u001b[K     |█████████████████████████████▏  | 122kB 2.6MB/s eta 0:00:01\r\u001b[K     |███████████████████████████████▋| 133kB 2.6MB/s eta 0:00:01\r\u001b[K     |████████████████████████████████| 143kB 2.6MB/s \n",
            "\u001b[?25hCollecting prawcore<2.0,>=1.0.1\n",
            "  Downloading https://files.pythonhosted.org/packages/76/b5/ce6282dea45cba6f08a30e25d18e0f3d33277e2c9fcbda75644b8dc0089b/prawcore-1.0.1-py2.py3-none-any.whl\n",
            "Collecting update-checker>=0.16\n",
            "  Downloading https://files.pythonhosted.org/packages/17/c9/ab11855af164d03be0ff4fddd4c46a5bd44799a9ecc1770e01a669c21168/update_checker-0.16-py2.py3-none-any.whl\n",
            "Collecting websocket-client>=0.54.0\n",
            "\u001b[?25l  Downloading https://files.pythonhosted.org/packages/4c/5f/f61b420143ed1c8dc69f9eaec5ff1ac36109d52c80de49d66e0c36c3dfdf/websocket_client-0.57.0-py2.py3-none-any.whl (200kB)\n",
            "\u001b[K     |████████████████████████████████| 204kB 8.7MB/s \n",
            "\u001b[?25hRequirement already satisfied: requests<3.0,>=2.6.0 in /usr/local/lib/python3.6/dist-packages (from prawcore<2.0,>=1.0.1->praw) (2.21.0)\n",
            "Requirement already satisfied: six in /usr/local/lib/python3.6/dist-packages (from websocket-client>=0.54.0->praw) (1.12.0)\n",
            "Requirement already satisfied: chardet<3.1.0,>=3.0.2 in /usr/local/lib/python3.6/dist-packages (from requests<3.0,>=2.6.0->prawcore<2.0,>=1.0.1->praw) (3.0.4)\n",
            "Requirement already satisfied: idna<2.9,>=2.5 in /usr/local/lib/python3.6/dist-packages (from requests<3.0,>=2.6.0->prawcore<2.0,>=1.0.1->praw) (2.8)\n",
            "Requirement already satisfied: certifi>=2017.4.17 in /usr/local/lib/python3.6/dist-packages (from requests<3.0,>=2.6.0->prawcore<2.0,>=1.0.1->praw) (2020.4.5.1)\n",
            "Requirement already satisfied: urllib3<1.25,>=1.21.1 in /usr/local/lib/python3.6/dist-packages (from requests<3.0,>=2.6.0->prawcore<2.0,>=1.0.1->praw) (1.24.3)\n",
            "Installing collected packages: prawcore, update-checker, websocket-client, praw\n",
            "Successfully installed praw-6.5.1 prawcore-1.0.1 update-checker-0.16 websocket-client-0.57.0\n"
          ],
          "name": "stdout"
        }
      ]
    },
    {
      "cell_type": "code",
      "metadata": {
        "id": "uxwVzvle561Y",
        "colab_type": "code",
        "colab": {}
      },
      "source": [
        "import os\n",
        "import pandas as pd\n",
        "import praw"
      ],
      "execution_count": 0,
      "outputs": []
    },
    {
      "cell_type": "code",
      "metadata": {
        "id": "GwAUYel_6MBI",
        "colab_type": "code",
        "colab": {}
      },
      "source": [
        "reddit = praw.Reddit(client_id ='Q99qSQY6otSnWw',\n",
        "                     client_secret ='LrcqTOgL_perr75LA2n0WpDTa3A',\n",
        "                     user_agent = 'reddit_scraper' )"
      ],
      "execution_count": 0,
      "outputs": []
    },
    {
      "cell_type": "code",
      "metadata": {
        "id": "2UHxIkSj6zSn",
        "colab_type": "code",
        "colab": {}
      },
      "source": [
        "flairs = [\"AskIndia\", \"Non-Political\", \n",
        "          \"Scheduled\", \"Photography\", \"Science/Technology\",\n",
        "          \"Politics\", \"Business/Finance\", \"Policy/Economy\",\n",
        "          \"Sports\", \"Food\", \"Coronavirus\"]"
      ],
      "execution_count": 0,
      "outputs": []
    },
    {
      "cell_type": "code",
      "metadata": {
        "id": "0jRH8fOb8EjR",
        "colab_type": "code",
        "colab": {}
      },
      "source": [
        "subreddit = reddit.subreddit('India')\n",
        "x = {'id':[],\n",
        "     'title':[],\n",
        "     'flair':[],\n",
        "     'score':[],\n",
        "     'url':[],\n",
        "     'body':[],\n",
        "     'author':[]}"
      ],
      "execution_count": 0,
      "outputs": []
    },
    {
      "cell_type": "code",
      "metadata": {
        "id": "cnPyNFg67D3z",
        "colab_type": "code",
        "colab": {}
      },
      "source": [
        "for flair in flairs:\n",
        "  flair_i = subreddit.search(flair, limit = 2000, sort='top')\n",
        "  for submission in flair_i:\n",
        "    x['id'].append(submission.id)\n",
        "    x['title'].append(submission.title)\n",
        "    x['flair'].append(flair)\n",
        "    x['score'].append(submission.score)\n",
        "    x['url'].append(submission.url)\n",
        "    x['body'].append(submission.selftext)\n",
        "    x['author'].append(submission.author)"
      ],
      "execution_count": 0,
      "outputs": []
    },
    {
      "cell_type": "code",
      "metadata": {
        "id": "U_ncfqX87_7h",
        "colab_type": "code",
        "colab": {}
      },
      "source": [
        "x = pd.DataFrame(x,columns=[\"id\",\"title\",\"flair\",\"score\",\"url\",\"body\",\"author\"])"
      ],
      "execution_count": 0,
      "outputs": []
    },
    {
      "cell_type": "code",
      "metadata": {
        "id": "hTGzDx_x9AqD",
        "colab_type": "code",
        "outputId": "350ef47d-496c-42fc-d687-3a416d6f0818",
        "colab": {
          "base_uri": "https://localhost:8080/",
          "height": 496
        }
      },
      "source": [
        "x.head()"
      ],
      "execution_count": 0,
      "outputs": [
        {
          "output_type": "execute_result",
          "data": {
            "text/html": [
              "<div>\n",
              "<style scoped>\n",
              "    .dataframe tbody tr th:only-of-type {\n",
              "        vertical-align: middle;\n",
              "    }\n",
              "\n",
              "    .dataframe tbody tr th {\n",
              "        vertical-align: top;\n",
              "    }\n",
              "\n",
              "    .dataframe thead th {\n",
              "        text-align: right;\n",
              "    }\n",
              "</style>\n",
              "<table border=\"1\" class=\"dataframe\">\n",
              "  <thead>\n",
              "    <tr style=\"text-align: right;\">\n",
              "      <th></th>\n",
              "      <th>id</th>\n",
              "      <th>title</th>\n",
              "      <th>flair</th>\n",
              "      <th>score</th>\n",
              "      <th>url</th>\n",
              "      <th>body</th>\n",
              "      <th>author</th>\n",
              "    </tr>\n",
              "  </thead>\n",
              "  <tbody>\n",
              "    <tr>\n",
              "      <th>0</th>\n",
              "      <td>f9outu</td>\n",
              "      <td>Fuck all Religion</td>\n",
              "      <td>AskIndia</td>\n",
              "      <td>17901</td>\n",
              "      <td>https://www.reddit.com/r/india/comments/f9outu...</td>\n",
              "      <td>Fuck all religion. Fuck Hindusim, fuck Islam, ...</td>\n",
              "      <td>pking3</td>\n",
              "    </tr>\n",
              "    <tr>\n",
              "      <th>1</th>\n",
              "      <td>drehup</td>\n",
              "      <td>Whats with this country and its standards?</td>\n",
              "      <td>AskIndia</td>\n",
              "      <td>2685</td>\n",
              "      <td>https://www.reddit.com/r/india/comments/drehup...</td>\n",
              "      <td>Apart from the obvious, trash everywhere, bike...</td>\n",
              "      <td>nitaant</td>\n",
              "    </tr>\n",
              "    <tr>\n",
              "      <th>2</th>\n",
              "      <td>e69fln</td>\n",
              "      <td>Possible scam on the huge Youtube tech channel...</td>\n",
              "      <td>AskIndia</td>\n",
              "      <td>2388</td>\n",
              "      <td>https://www.reddit.com/r/india/comments/e69fln...</td>\n",
              "      <td>Hello everyone,\\n\\nI want to bring to your att...</td>\n",
              "      <td>javapyscript</td>\n",
              "    </tr>\n",
              "    <tr>\n",
              "      <th>3</th>\n",
              "      <td>dgs26z</td>\n",
              "      <td>Railway police sent missing autistic kid on so...</td>\n",
              "      <td>AskIndia</td>\n",
              "      <td>2284</td>\n",
              "      <td>https://www.reddit.com/r/india/comments/dgs26z...</td>\n",
              "      <td>Edit Update: according to police he is still c...</td>\n",
              "      <td>apnatimekhayga</td>\n",
              "    </tr>\n",
              "    <tr>\n",
              "      <th>4</th>\n",
              "      <td>ea3sdp</td>\n",
              "      <td>CAB Bill 2019 - News/Protests/Editorials Megat...</td>\n",
              "      <td>AskIndia</td>\n",
              "      <td>2004</td>\n",
              "      <td>https://www.reddit.com/r/india/comments/ea3sdp...</td>\n",
              "      <td>* [**What Is The CAA-NPR-NRC Link? Explainer b...</td>\n",
              "      <td>IAmMohit</td>\n",
              "    </tr>\n",
              "  </tbody>\n",
              "</table>\n",
              "</div>"
            ],
            "text/plain": [
              "       id  ...          author\n",
              "0  f9outu  ...          pking3\n",
              "1  drehup  ...         nitaant\n",
              "2  e69fln  ...    javapyscript\n",
              "3  dgs26z  ...  apnatimekhayga\n",
              "4  ea3sdp  ...        IAmMohit\n",
              "\n",
              "[5 rows x 7 columns]"
            ]
          },
          "metadata": {
            "tags": []
          },
          "execution_count": 65
        }
      ]
    },
    {
      "cell_type": "code",
      "metadata": {
        "id": "WsWLF4PQ9J8Z",
        "colab_type": "code",
        "outputId": "dc4cd504-3722-4159-bef4-66fa15f58680",
        "colab": {
          "base_uri": "https://localhost:8080/",
          "height": 238
        }
      },
      "source": [
        "x.flair.value_counts()"
      ],
      "execution_count": 0,
      "outputs": [
        {
          "output_type": "execute_result",
          "data": {
            "text/plain": [
              "Coronavirus           243\n",
              "Business/Finance      233\n",
              "AskIndia              226\n",
              "Food                  226\n",
              "Sports                226\n",
              "Photography           224\n",
              "Politics              223\n",
              "Science/Technology    222\n",
              "Policy/Economy        222\n",
              "Scheduled             220\n",
              "AMA                   219\n",
              "Non-Political         218\n",
              "Name: flair, dtype: int64"
            ]
          },
          "metadata": {
            "tags": []
          },
          "execution_count": 66
        }
      ]
    },
    {
      "cell_type": "code",
      "metadata": {
        "id": "LiRbWh5e9QpG",
        "colab_type": "code",
        "colab": {}
      },
      "source": [
        "x.to_csv('/content/reddit.csv', index = True)"
      ],
      "execution_count": 0,
      "outputs": []
    },
    {
      "cell_type": "code",
      "metadata": {
        "id": "Yp1cqKXE94sA",
        "colab_type": "code",
        "colab": {}
      },
      "source": [
        ""
      ],
      "execution_count": 0,
      "outputs": []
    }
  ]
}