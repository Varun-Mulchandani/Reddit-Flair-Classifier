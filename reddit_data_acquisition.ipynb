{
  "nbformat": 4,
  "nbformat_minor": 0,
  "metadata": {
    "colab": {
      "name": "reddit_data_acquisition.ipynb",
      "provenance": [],
      "authorship_tag": "ABX9TyP346y2wYtsOKAST6vo25fo",
      "include_colab_link": true
    },
    "kernelspec": {
      "name": "python3",
      "display_name": "Python 3"
    }
  },
  "cells": [
    {
      "cell_type": "markdown",
      "metadata": {
        "id": "view-in-github",
        "colab_type": "text"
      },
      "source": [
        "<a href=\"https://colab.research.google.com/github/Varun-Mulchandani/Reddit-Flair-Classifier/blob/master/reddit_data_acquisition.ipynb\" target=\"_parent\"><img src=\"https://colab.research.google.com/assets/colab-badge.svg\" alt=\"Open In Colab\"/></a>"
      ]
    },
    {
      "cell_type": "code",
      "metadata": {
        "id": "uxwVzvle561Y",
        "colab_type": "code",
        "colab": {}
      },
      "source": [
        "import os\n",
        "import pandas as pd\n",
        "import praw"
      ],
      "execution_count": 0,
      "outputs": []
    },
    {
      "cell_type": "code",
      "metadata": {
        "id": "GwAUYel_6MBI",
        "colab_type": "code",
        "colab": {}
      },
      "source": [
        "reddit = praw.Reddit(client_id ='Q99qSQY6otSnWw',\n",
        "                     client_secret ='LrcqTOgL_perr75LA2n0WpDTa3A',\n",
        "                     user_agent = 'reddit_scraper' )"
      ],
      "execution_count": 0,
      "outputs": []
    },
    {
      "cell_type": "code",
      "metadata": {
        "id": "2UHxIkSj6zSn",
        "colab_type": "code",
        "colab": {}
      },
      "source": [
        "flairs = [\"AskIndia\", \"Non-Political\", \n",
        "          \"Scheduled\", \"Photography\", \"Science/Technology\",\n",
        "          \"Politics\", \"Business/Finance\", \"Policy/Economy\",\n",
        "          \"Sports\", \"Food\", \"AMA\", \"Coronavirus\"]"
      ],
      "execution_count": 0,
      "outputs": []
    },
    {
      "cell_type": "code",
      "metadata": {
        "id": "0jRH8fOb8EjR",
        "colab_type": "code",
        "colab": {}
      },
      "source": [
        "subreddit = reddit.subreddit('India')\n",
        "x = {'id':[],\n",
        "     'title':[],\n",
        "     'flair':[],\n",
        "     'score':[],\n",
        "     'url':[],\n",
        "     'body':[],\n",
        "     'author':[]}"
      ],
      "execution_count": 0,
      "outputs": []
    },
    {
      "cell_type": "code",
      "metadata": {
        "id": "cnPyNFg67D3z",
        "colab_type": "code",
        "colab": {}
      },
      "source": [
        "for flair in flairs:\n",
        "  flair_i = subreddit.search(flair, limit=250, sort='top')\n",
        "  for submission in flair_i:\n",
        "    x['id'].append(submission.id)\n",
        "    x['title'].append(submission.title)\n",
        "    x['flair'].append(flair)\n",
        "    x['score'].append(submission.score)\n",
        "    x['url'].append(submission.url)\n",
        "    x['body'].append(submission.selftext)\n",
        "    x['author'].append(submission.author)"
      ],
      "execution_count": 0,
      "outputs": []
    },
    {
      "cell_type": "code",
      "metadata": {
        "id": "U_ncfqX87_7h",
        "colab_type": "code",
        "colab": {}
      },
      "source": [
        "x = pd.DataFrame(x,columns=[\"id\",\"title\",\"flair\",\"score\",\"url\",\"body\",\"author\"])"
      ],
      "execution_count": 0,
      "outputs": []
    },
    {
      "cell_type": "code",
      "metadata": {
        "id": "hTGzDx_x9AqD",
        "colab_type": "code",
        "outputId": "2bcba572-3ea8-4128-a0ae-1a4793145aea",
        "colab": {
          "base_uri": "https://localhost:8080/",
          "height": 374
        }
      },
      "source": [
        "x.head()"
      ],
      "execution_count": 0,
      "outputs": [
        {
          "output_type": "execute_result",
          "data": {
            "text/html": [
              "<div>\n",
              "<style scoped>\n",
              "    .dataframe tbody tr th:only-of-type {\n",
              "        vertical-align: middle;\n",
              "    }\n",
              "\n",
              "    .dataframe tbody tr th {\n",
              "        vertical-align: top;\n",
              "    }\n",
              "\n",
              "    .dataframe thead th {\n",
              "        text-align: right;\n",
              "    }\n",
              "</style>\n",
              "<table border=\"1\" class=\"dataframe\">\n",
              "  <thead>\n",
              "    <tr style=\"text-align: right;\">\n",
              "      <th></th>\n",
              "      <th>id</th>\n",
              "      <th>title</th>\n",
              "      <th>flair</th>\n",
              "      <th>score</th>\n",
              "      <th>url</th>\n",
              "      <th>body</th>\n",
              "      <th>author</th>\n",
              "    </tr>\n",
              "  </thead>\n",
              "  <tbody>\n",
              "    <tr>\n",
              "      <th>0</th>\n",
              "      <td>f9outu</td>\n",
              "      <td>Fuck all Religion</td>\n",
              "      <td>AskIndia</td>\n",
              "      <td>17879</td>\n",
              "      <td>https://www.reddit.com/r/india/comments/f9outu...</td>\n",
              "      <td>Fuck all religion. Fuck Hindusim, fuck Islam, ...</td>\n",
              "      <td>pking3</td>\n",
              "    </tr>\n",
              "    <tr>\n",
              "      <th>1</th>\n",
              "      <td>drehup</td>\n",
              "      <td>Whats with this country and its standards?</td>\n",
              "      <td>AskIndia</td>\n",
              "      <td>2685</td>\n",
              "      <td>https://www.reddit.com/r/india/comments/drehup...</td>\n",
              "      <td>Apart from the obvious, trash everywhere, bike...</td>\n",
              "      <td>nitaant</td>\n",
              "    </tr>\n",
              "    <tr>\n",
              "      <th>2</th>\n",
              "      <td>e69fln</td>\n",
              "      <td>Possible scam on the huge Youtube tech channel...</td>\n",
              "      <td>AskIndia</td>\n",
              "      <td>2384</td>\n",
              "      <td>https://www.reddit.com/r/india/comments/e69fln...</td>\n",
              "      <td>Hello everyone,\\n\\nI want to bring to your att...</td>\n",
              "      <td>javapyscript</td>\n",
              "    </tr>\n",
              "    <tr>\n",
              "      <th>3</th>\n",
              "      <td>dgs26z</td>\n",
              "      <td>Railway police sent missing autistic kid on so...</td>\n",
              "      <td>AskIndia</td>\n",
              "      <td>2282</td>\n",
              "      <td>https://www.reddit.com/r/india/comments/dgs26z...</td>\n",
              "      <td>Edit Update: according to police he is still c...</td>\n",
              "      <td>apnatimekhayga</td>\n",
              "    </tr>\n",
              "    <tr>\n",
              "      <th>4</th>\n",
              "      <td>ea3sdp</td>\n",
              "      <td>CAB Bill 2019 - News/Protests/Editorials Megat...</td>\n",
              "      <td>AskIndia</td>\n",
              "      <td>2001</td>\n",
              "      <td>https://www.reddit.com/r/india/comments/ea3sdp...</td>\n",
              "      <td>* [**What Is The CAA-NPR-NRC Link? Explainer b...</td>\n",
              "      <td>IAmMohit</td>\n",
              "    </tr>\n",
              "  </tbody>\n",
              "</table>\n",
              "</div>"
            ],
            "text/plain": [
              "       id  ...          author\n",
              "0  f9outu  ...          pking3\n",
              "1  drehup  ...         nitaant\n",
              "2  e69fln  ...    javapyscript\n",
              "3  dgs26z  ...  apnatimekhayga\n",
              "4  ea3sdp  ...        IAmMohit\n",
              "\n",
              "[5 rows x 7 columns]"
            ]
          },
          "metadata": {
            "tags": []
          },
          "execution_count": 34
        }
      ]
    },
    {
      "cell_type": "code",
      "metadata": {
        "id": "WsWLF4PQ9J8Z",
        "colab_type": "code",
        "outputId": "995dae17-01c4-4ec0-9605-4694b745ac43",
        "colab": {
          "base_uri": "https://localhost:8080/",
          "height": 238
        }
      },
      "source": [
        "x.flair.value_counts()"
      ],
      "execution_count": 0,
      "outputs": [
        {
          "output_type": "execute_result",
          "data": {
            "text/plain": [
              "Coronavirus           243\n",
              "Business/Finance      233\n",
              "Food                  226\n",
              "AskIndia              226\n",
              "Sports                226\n",
              "Photography           225\n",
              "Politics              223\n",
              "Science/Technology    221\n",
              "Policy/Economy        221\n",
              "Scheduled             220\n",
              "AMA                   219\n",
              "Non-Political         218\n",
              "Name: flair, dtype: int64"
            ]
          },
          "metadata": {
            "tags": []
          },
          "execution_count": 35
        }
      ]
    },
    {
      "cell_type": "code",
      "metadata": {
        "id": "LiRbWh5e9QpG",
        "colab_type": "code",
        "colab": {}
      },
      "source": [
        "x.to_csv('/content/reddit_data.csv', index = True)"
      ],
      "execution_count": 0,
      "outputs": []
    },
    {
      "cell_type": "code",
      "metadata": {
        "id": "Yp1cqKXE94sA",
        "colab_type": "code",
        "colab": {}
      },
      "source": [
        ""
      ],
      "execution_count": 0,
      "outputs": []
    }
  ]
}