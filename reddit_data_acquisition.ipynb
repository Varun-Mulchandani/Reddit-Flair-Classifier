{
  "nbformat": 4,
  "nbformat_minor": 0,
  "metadata": {
    "colab": {
      "name": "reddit_data_acquisition.ipynb",
      "provenance": [],
      "collapsed_sections": [],
      "authorship_tag": "ABX9TyPtDX2YTnmUQUpPcut5ysEc",
      "include_colab_link": true
    },
    "kernelspec": {
      "name": "python3",
      "display_name": "Python 3"
    }
  },
  "cells": [
    {
      "cell_type": "markdown",
      "metadata": {
        "id": "view-in-github",
        "colab_type": "text"
      },
      "source": [
        "<a href=\"https://colab.research.google.com/github/Varun-Mulchandani/Reddit-Flair-Classifier/blob/master/reddit_data_acquisition.ipynb\" target=\"_parent\"><img src=\"https://colab.research.google.com/assets/colab-badge.svg\" alt=\"Open In Colab\"/></a>"
      ]
    },
    {
      "cell_type": "markdown",
      "metadata": {
        "id": "R4Va935u1doy",
        "colab_type": "text"
      },
      "source": [
        "## DATA ACQUISITION"
      ]
    },
    {
      "cell_type": "markdown",
      "metadata": {
        "id": "cCdunqeu0JV-",
        "colab_type": "text"
      },
      "source": [
        "Installing praw:"
      ]
    },
    {
      "cell_type": "code",
      "metadata": {
        "id": "iNWm1lsoEr0b",
        "colab_type": "code",
        "outputId": "e4b7e42b-7b2e-43e7-9065-a8e50c4f52b8",
        "colab": {
          "base_uri": "https://localhost:8080/",
          "height": 339
        }
      },
      "source": [
        "!pip install praw"
      ],
      "execution_count": 1,
      "outputs": [
        {
          "output_type": "stream",
          "text": [
            "Collecting praw\n",
            "\u001b[?25l  Downloading https://files.pythonhosted.org/packages/5c/39/17251486951815d4514e4a3f179d4f3e7af5f7b1ce8eaba5a3ea61bc91f2/praw-7.0.0-py3-none-any.whl (143kB)\n",
            "\r\u001b[K     |██▎                             | 10kB 19.1MB/s eta 0:00:01\r\u001b[K     |████▋                           | 20kB 2.2MB/s eta 0:00:01\r\u001b[K     |██████▉                         | 30kB 2.8MB/s eta 0:00:01\r\u001b[K     |█████████▏                      | 40kB 2.1MB/s eta 0:00:01\r\u001b[K     |███████████▍                    | 51kB 2.3MB/s eta 0:00:01\r\u001b[K     |█████████████▊                  | 61kB 2.7MB/s eta 0:00:01\r\u001b[K     |████████████████                | 71kB 2.9MB/s eta 0:00:01\r\u001b[K     |██████████████████▎             | 81kB 3.1MB/s eta 0:00:01\r\u001b[K     |████████████████████▋           | 92kB 3.5MB/s eta 0:00:01\r\u001b[K     |██████████████████████▉         | 102kB 3.4MB/s eta 0:00:01\r\u001b[K     |█████████████████████████▏      | 112kB 3.4MB/s eta 0:00:01\r\u001b[K     |███████████████████████████▍    | 122kB 3.4MB/s eta 0:00:01\r\u001b[K     |█████████████████████████████▊  | 133kB 3.4MB/s eta 0:00:01\r\u001b[K     |████████████████████████████████| 143kB 3.4MB/s eta 0:00:01\r\u001b[K     |████████████████████████████████| 153kB 3.4MB/s \n",
            "\u001b[?25hCollecting prawcore<2.0,>=1.3.0\n",
            "  Downloading https://files.pythonhosted.org/packages/c9/8e/d076cb8f26523f91eef3e75d6cf9143b2f16d67ce7d681a61d0bbc783f49/prawcore-1.3.0-py3-none-any.whl\n",
            "Collecting update-checker>=0.16\n",
            "  Downloading https://files.pythonhosted.org/packages/17/c9/ab11855af164d03be0ff4fddd4c46a5bd44799a9ecc1770e01a669c21168/update_checker-0.16-py2.py3-none-any.whl\n",
            "Collecting websocket-client>=0.54.0\n",
            "\u001b[?25l  Downloading https://files.pythonhosted.org/packages/4c/5f/f61b420143ed1c8dc69f9eaec5ff1ac36109d52c80de49d66e0c36c3dfdf/websocket_client-0.57.0-py2.py3-none-any.whl (200kB)\n",
            "\u001b[K     |████████████████████████████████| 204kB 10.6MB/s \n",
            "\u001b[?25hRequirement already satisfied: requests<3.0,>=2.6.0 in /usr/local/lib/python3.6/dist-packages (from prawcore<2.0,>=1.3.0->praw) (2.21.0)\n",
            "Requirement already satisfied: six in /usr/local/lib/python3.6/dist-packages (from websocket-client>=0.54.0->praw) (1.12.0)\n",
            "Requirement already satisfied: certifi>=2017.4.17 in /usr/local/lib/python3.6/dist-packages (from requests<3.0,>=2.6.0->prawcore<2.0,>=1.3.0->praw) (2020.4.5.1)\n",
            "Requirement already satisfied: idna<2.9,>=2.5 in /usr/local/lib/python3.6/dist-packages (from requests<3.0,>=2.6.0->prawcore<2.0,>=1.3.0->praw) (2.8)\n",
            "Requirement already satisfied: urllib3<1.25,>=1.21.1 in /usr/local/lib/python3.6/dist-packages (from requests<3.0,>=2.6.0->prawcore<2.0,>=1.3.0->praw) (1.24.3)\n",
            "Requirement already satisfied: chardet<3.1.0,>=3.0.2 in /usr/local/lib/python3.6/dist-packages (from requests<3.0,>=2.6.0->prawcore<2.0,>=1.3.0->praw) (3.0.4)\n",
            "Installing collected packages: prawcore, update-checker, websocket-client, praw\n",
            "Successfully installed praw-7.0.0 prawcore-1.3.0 update-checker-0.16 websocket-client-0.57.0\n"
          ],
          "name": "stdout"
        }
      ]
    },
    {
      "cell_type": "markdown",
      "metadata": {
        "id": "XbHqHfiU0PWk",
        "colab_type": "text"
      },
      "source": [
        "Importing Libraries:"
      ]
    },
    {
      "cell_type": "code",
      "metadata": {
        "id": "uxwVzvle561Y",
        "colab_type": "code",
        "colab": {}
      },
      "source": [
        "import os\n",
        "import pandas as pd\n",
        "import praw"
      ],
      "execution_count": 0,
      "outputs": []
    },
    {
      "cell_type": "code",
      "metadata": {
        "id": "GwAUYel_6MBI",
        "colab_type": "code",
        "colab": {}
      },
      "source": [
        "reddit = praw.Reddit(client_id ='Q99qSQY6otSnWw',\n",
        "                     client_secret ='LrcqTOgL_perr75LA2n0WpDTa3A',\n",
        "                     user_agent = 'reddit_scraper' )"
      ],
      "execution_count": 0,
      "outputs": []
    },
    {
      "cell_type": "markdown",
      "metadata": {
        "id": "OvJxDrG90SS_",
        "colab_type": "text"
      },
      "source": [
        "Establishing the 11 possible flairs of submissions on reddit:"
      ]
    },
    {
      "cell_type": "code",
      "metadata": {
        "id": "2UHxIkSj6zSn",
        "colab_type": "code",
        "colab": {}
      },
      "source": [
        "flairs = [\"AskIndia\", \"Non-Political\", \n",
        "          \"Scheduled\", \"Photography\", \"Science/Technology\",\n",
        "          \"Politics\", \"Business/Finance\", \"Policy/Economy\",\n",
        "          \"Sports\", \"Food\", \"Coronavirus\"]"
      ],
      "execution_count": 0,
      "outputs": []
    },
    {
      "cell_type": "code",
      "metadata": {
        "id": "0jRH8fOb8EjR",
        "colab_type": "code",
        "colab": {}
      },
      "source": [
        "subreddit = reddit.subreddit('India')\n",
        "x = {\"flair\":[],\n",
        "     \"title\":[], \n",
        "     \"score\":[], \n",
        "     \"id\":[], \n",
        "     \"url\":[], \n",
        "     \"comms_num\": [], \n",
        "     \"author\": [], \n",
        "     \"body\":[]}"
      ],
      "execution_count": 0,
      "outputs": []
    },
    {
      "cell_type": "markdown",
      "metadata": {
        "id": "treOxJb-0sFU",
        "colab_type": "text"
      },
      "source": [
        "To extract more data for training, I set the limit for each post as 2000."
      ]
    },
    {
      "cell_type": "code",
      "metadata": {
        "id": "cnPyNFg67D3z",
        "colab_type": "code",
        "colab": {}
      },
      "source": [
        "for flair in flairs:\n",
        "  flair_i = subreddit.search(flair, limit = 2000, sort='top')\n",
        "  for submission in flair_i:\n",
        "    x[\"flair\"].append(flair)\n",
        "    x[\"title\"].append(submission.title)\n",
        "    x[\"score\"].append(submission.score)\n",
        "    x[\"id\"].append(submission.id)\n",
        "    x[\"url\"].append(submission.url)\n",
        "    x[\"comms_num\"].append(submission.num_comments)\n",
        "    x[\"author\"].append(submission.author)\n",
        "    x[\"body\"].append(submission.selftext)"
      ],
      "execution_count": 0,
      "outputs": []
    },
    {
      "cell_type": "markdown",
      "metadata": {
        "id": "rgvIyU3g1LvD",
        "colab_type": "text"
      },
      "source": [
        "Creating a dataframe:"
      ]
    },
    {
      "cell_type": "code",
      "metadata": {
        "id": "U_ncfqX87_7h",
        "colab_type": "code",
        "colab": {}
      },
      "source": [
        "x = pd.DataFrame(x,columns=[\"flair\",\"title\",\"score\",\"id\",\"url\",\"comms_num\",\"author\",\"body\"])"
      ],
      "execution_count": 0,
      "outputs": []
    },
    {
      "cell_type": "code",
      "metadata": {
        "id": "hTGzDx_x9AqD",
        "colab_type": "code",
        "outputId": "b1ff13ac-5d6d-48c9-9152-a06a37d31fa0",
        "colab": {
          "base_uri": "https://localhost:8080/",
          "height": 464
        }
      },
      "source": [
        "x.head()"
      ],
      "execution_count": 18,
      "outputs": [
        {
          "output_type": "execute_result",
          "data": {
            "text/html": [
              "<div>\n",
              "<style scoped>\n",
              "    .dataframe tbody tr th:only-of-type {\n",
              "        vertical-align: middle;\n",
              "    }\n",
              "\n",
              "    .dataframe tbody tr th {\n",
              "        vertical-align: top;\n",
              "    }\n",
              "\n",
              "    .dataframe thead th {\n",
              "        text-align: right;\n",
              "    }\n",
              "</style>\n",
              "<table border=\"1\" class=\"dataframe\">\n",
              "  <thead>\n",
              "    <tr style=\"text-align: right;\">\n",
              "      <th></th>\n",
              "      <th>flair</th>\n",
              "      <th>title</th>\n",
              "      <th>score</th>\n",
              "      <th>id</th>\n",
              "      <th>url</th>\n",
              "      <th>comms_num</th>\n",
              "      <th>author</th>\n",
              "      <th>body</th>\n",
              "    </tr>\n",
              "  </thead>\n",
              "  <tbody>\n",
              "    <tr>\n",
              "      <th>0</th>\n",
              "      <td>AskIndia</td>\n",
              "      <td>Fuck all Religion</td>\n",
              "      <td>17910</td>\n",
              "      <td>f9outu</td>\n",
              "      <td>https://www.reddit.com/r/india/comments/f9outu...</td>\n",
              "      <td>4189</td>\n",
              "      <td>pking3</td>\n",
              "      <td>Fuck all religion. Fuck Hindusim, fuck Islam, ...</td>\n",
              "    </tr>\n",
              "    <tr>\n",
              "      <th>1</th>\n",
              "      <td>AskIndia</td>\n",
              "      <td>Whats with this country and its standards?</td>\n",
              "      <td>2681</td>\n",
              "      <td>drehup</td>\n",
              "      <td>https://www.reddit.com/r/india/comments/drehup...</td>\n",
              "      <td>748</td>\n",
              "      <td>nitaant</td>\n",
              "      <td>Apart from the obvious, trash everywhere, bike...</td>\n",
              "    </tr>\n",
              "    <tr>\n",
              "      <th>2</th>\n",
              "      <td>AskIndia</td>\n",
              "      <td>Possible scam on the huge Youtube tech channel...</td>\n",
              "      <td>2382</td>\n",
              "      <td>e69fln</td>\n",
              "      <td>https://www.reddit.com/r/india/comments/e69fln...</td>\n",
              "      <td>313</td>\n",
              "      <td>javapyscript</td>\n",
              "      <td>Hello everyone,\\n\\nI want to bring to your att...</td>\n",
              "    </tr>\n",
              "    <tr>\n",
              "      <th>3</th>\n",
              "      <td>AskIndia</td>\n",
              "      <td>Railway police sent missing autistic kid on so...</td>\n",
              "      <td>2287</td>\n",
              "      <td>dgs26z</td>\n",
              "      <td>https://www.reddit.com/r/india/comments/dgs26z...</td>\n",
              "      <td>290</td>\n",
              "      <td>apnatimekhayga</td>\n",
              "      <td>Edit Update: according to police he is still c...</td>\n",
              "    </tr>\n",
              "    <tr>\n",
              "      <th>4</th>\n",
              "      <td>AskIndia</td>\n",
              "      <td>CAB Bill 2019 - News/Protests/Editorials Megat...</td>\n",
              "      <td>2005</td>\n",
              "      <td>ea3sdp</td>\n",
              "      <td>https://www.reddit.com/r/india/comments/ea3sdp...</td>\n",
              "      <td>2598</td>\n",
              "      <td>IAmMohit</td>\n",
              "      <td>* [**What Is The CAA-NPR-NRC Link? Explainer b...</td>\n",
              "    </tr>\n",
              "  </tbody>\n",
              "</table>\n",
              "</div>"
            ],
            "text/plain": [
              "      flair  ...                                               body\n",
              "0  AskIndia  ...  Fuck all religion. Fuck Hindusim, fuck Islam, ...\n",
              "1  AskIndia  ...  Apart from the obvious, trash everywhere, bike...\n",
              "2  AskIndia  ...  Hello everyone,\\n\\nI want to bring to your att...\n",
              "3  AskIndia  ...  Edit Update: according to police he is still c...\n",
              "4  AskIndia  ...  * [**What Is The CAA-NPR-NRC Link? Explainer b...\n",
              "\n",
              "[5 rows x 8 columns]"
            ]
          },
          "metadata": {
            "tags": []
          },
          "execution_count": 18
        }
      ]
    },
    {
      "cell_type": "markdown",
      "metadata": {
        "id": "gvTPyNJv1SBH",
        "colab_type": "text"
      },
      "source": [
        "Check the number of posts for each flair:"
      ]
    },
    {
      "cell_type": "code",
      "metadata": {
        "id": "WsWLF4PQ9J8Z",
        "colab_type": "code",
        "outputId": "af1df76f-7d46-4ba0-f863-81523a6c9f10",
        "colab": {
          "base_uri": "https://localhost:8080/",
          "height": 218
        }
      },
      "source": [
        "x.flair.value_counts()"
      ],
      "execution_count": 19,
      "outputs": [
        {
          "output_type": "execute_result",
          "data": {
            "text/plain": [
              "Coronavirus           243\n",
              "Business/Finance      233\n",
              "Food                  227\n",
              "AskIndia              226\n",
              "Sports                226\n",
              "Photography           224\n",
              "Politics              223\n",
              "Policy/Economy        221\n",
              "Science/Technology    221\n",
              "Scheduled             220\n",
              "Non-Political         218\n",
              "Name: flair, dtype: int64"
            ]
          },
          "metadata": {
            "tags": []
          },
          "execution_count": 19
        }
      ]
    },
    {
      "cell_type": "markdown",
      "metadata": {
        "id": "vXLWQF811Xv8",
        "colab_type": "text"
      },
      "source": [
        "Convert the dataframe to a csv file and save it:"
      ]
    },
    {
      "cell_type": "code",
      "metadata": {
        "id": "LiRbWh5e9QpG",
        "colab_type": "code",
        "colab": {}
      },
      "source": [
        "x.to_csv('/content/reddit.csv', index = True)"
      ],
      "execution_count": 0,
      "outputs": []
    }
  ]
}